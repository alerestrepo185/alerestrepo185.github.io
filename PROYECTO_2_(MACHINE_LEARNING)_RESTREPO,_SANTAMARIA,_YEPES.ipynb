{
  "nbformat": 4,
  "nbformat_minor": 0,
  "metadata": {
    "colab": {
      "name": "PROYECTO #2 (MACHINE LEARNING) - RESTREPO, SANTAMARIA, YEPES",
      "provenance": [],
      "include_colab_link": true
    },
    "kernelspec": {
      "name": "python3",
      "display_name": "Python 3"
    },
    "language_info": {
      "name": "python"
    }
  },
  "cells": [
    {
      "cell_type": "markdown",
      "metadata": {
        "id": "view-in-github",
        "colab_type": "text"
      },
      "source": [
        "<a href=\"https://colab.research.google.com/github/alerestrepo185/alerestrepo185.github.io/blob/main/PROYECTO_2_(MACHINE_LEARNING)_RESTREPO%2C_SANTAMARIA%2C_YEPES.ipynb\" target=\"_parent\"><img src=\"https://colab.research.google.com/assets/colab-badge.svg\" alt=\"Open In Colab\"/></a>"
      ]
    },
    {
      "cell_type": "markdown",
      "source": [
        "# **PROYECTO #2**"
      ],
      "metadata": {
        "id": "WcV0JaOcYD1x"
      }
    },
    {
      "cell_type": "markdown",
      "source": [
        "Paula Alejandra Restrepo Velásquez\n",
        "\n",
        "Andrés Felipe Santamaria Robayo\n",
        "\n",
        "Junior Yepes Vasquez"
      ],
      "metadata": {
        "id": "5WHrA04iYHwI"
      }
    },
    {
      "cell_type": "code",
      "source": [
        "!pip install wooldridge\n",
        "import wooldridge as wd"
      ],
      "metadata": {
        "colab": {
          "base_uri": "https://localhost:8080/"
        },
        "id": "1XfCR_LZZPhX",
        "outputId": "fa3c6d8b-f594-4373-dbb6-078102cbaad8"
      },
      "execution_count": null,
      "outputs": [
        {
          "output_type": "stream",
          "name": "stdout",
          "text": [
            "Requirement already satisfied: wooldridge in /usr/local/lib/python3.7/dist-packages (0.4.4)\n",
            "Requirement already satisfied: pandas in /usr/local/lib/python3.7/dist-packages (from wooldridge) (1.3.5)\n",
            "Requirement already satisfied: numpy>=1.17.3 in /usr/local/lib/python3.7/dist-packages (from pandas->wooldridge) (1.21.5)\n",
            "Requirement already satisfied: pytz>=2017.3 in /usr/local/lib/python3.7/dist-packages (from pandas->wooldridge) (2018.9)\n",
            "Requirement already satisfied: python-dateutil>=2.7.3 in /usr/local/lib/python3.7/dist-packages (from pandas->wooldridge) (2.8.2)\n",
            "Requirement already satisfied: six>=1.5 in /usr/local/lib/python3.7/dist-packages (from python-dateutil>=2.7.3->pandas->wooldridge) (1.15.0)\n"
          ]
        }
      ]
    },
    {
      "cell_type": "code",
      "execution_count": null,
      "metadata": {
        "id": "sTqackNpX9vV"
      },
      "outputs": [],
      "source": [
        "df=wd.data (\"wage1\")\n",
        "wage = df[\"wage\"]"
      ]
    },
    {
      "cell_type": "code",
      "source": [
        "wage"
      ],
      "metadata": {
        "colab": {
          "base_uri": "https://localhost:8080/"
        },
        "id": "QoXtxz5PZgc-",
        "outputId": "407c2ffd-3110-4c3e-98db-4b1d2d1867cb"
      },
      "execution_count": null,
      "outputs": [
        {
          "output_type": "execute_result",
          "data": {
            "text/plain": [
              "0       3.10\n",
              "1       3.24\n",
              "2       3.00\n",
              "3       6.00\n",
              "4       5.30\n",
              "       ...  \n",
              "521    15.00\n",
              "522     2.27\n",
              "523     4.67\n",
              "524    11.56\n",
              "525     3.50\n",
              "Name: wage, Length: 526, dtype: float64"
            ]
          },
          "metadata": {},
          "execution_count": 49
        }
      ]
    },
    {
      "cell_type": "code",
      "source": [
        "class Proyecto2:\n",
        "  def __init__(self, wage):\n",
        "    self.wage = wage\n",
        "  def media (self):\n",
        "    return sum(self.wage)/len(self.wage)\n",
        "  def mediana (self):\n",
        "    data = sorted (self.wage)\n",
        "    ale = len (data) // 2\n",
        "    return (data [ale - 1] + data [ale]) / 2 #datos pares\n",
        "  def desviacion (self):\n",
        "    vector=[]\n",
        "    media=self.media()\n",
        "    for i in (self.wage):\n",
        "      vector.append((i-media)**2)\n",
        "    return ((sum(vector)/(len(self.wage)-1))**(1/2))\n",
        "  def varianza (self):\n",
        "    desviacion=self.desviacion()\n",
        "    return desviacion**(2)\n",
        "  def coeficiente (self):\n",
        "    media=self.media()\n",
        "    desviacion=self.desviacion()\n",
        "    return desviacion/media"
      ],
      "metadata": {
        "id": "7OaBFvz8YGap"
      },
      "execution_count": null,
      "outputs": []
    },
    {
      "cell_type": "code",
      "source": [
        "Equipo_1 = Proyecto2 (wage)"
      ],
      "metadata": {
        "id": "6y-5t1ZCZAx-"
      },
      "execution_count": null,
      "outputs": []
    },
    {
      "cell_type": "code",
      "source": [
        "Equipo_1.media()"
      ],
      "metadata": {
        "colab": {
          "base_uri": "https://localhost:8080/"
        },
        "id": "ZpWYKJTmZ84m",
        "outputId": "b264d8eb-35ec-4954-8869-2fcec2ada152"
      },
      "execution_count": null,
      "outputs": [
        {
          "output_type": "execute_result",
          "data": {
            "text/plain": [
              "5.896102674787035"
            ]
          },
          "metadata": {},
          "execution_count": 52
        }
      ]
    },
    {
      "cell_type": "markdown",
      "source": [
        "- El valor arrojado 5.896102674787035 refiere a que el promedio de los salarios por hora  registrados en esta base de datos es de  5.89 dolares.\n"
      ],
      "metadata": {
        "id": "JJ0-NCU59IEJ"
      }
    },
    {
      "cell_type": "code",
      "source": [
        "Equipo_1.mediana()"
      ],
      "metadata": {
        "colab": {
          "base_uri": "https://localhost:8080/"
        },
        "id": "P260HjvfZ-zl",
        "outputId": "291800a6-2083-4aeb-9ccd-895b9ef3efaf"
      },
      "execution_count": null,
      "outputs": [
        {
          "output_type": "execute_result",
          "data": {
            "text/plain": [
              "4.650000095367432"
            ]
          },
          "metadata": {},
          "execution_count": 53
        }
      ]
    },
    {
      "cell_type": "markdown",
      "source": [
        "- Ordenando los datos,  el salarío por hora que se encuentra el punto medio de los datos es de 4.65 dolares por hora."
      ],
      "metadata": {
        "id": "FzCbSCGmBMI9"
      }
    },
    {
      "cell_type": "code",
      "source": [
        "Equipo_1.desviacion()"
      ],
      "metadata": {
        "colab": {
          "base_uri": "https://localhost:8080/"
        },
        "id": "4Kylj0DhazJu",
        "outputId": "cef5e3a2-d1fc-4143-bb26-695bff117cfa"
      },
      "execution_count": null,
      "outputs": [
        {
          "output_type": "execute_result",
          "data": {
            "text/plain": [
              "3.693086021713414"
            ]
          },
          "metadata": {},
          "execution_count": 54
        }
      ]
    },
    {
      "cell_type": "markdown",
      "source": [
        "- La desviación de 3.69 refiere a que existe una dispersión media de 3.69 dolares por hora respecto al promedio del salario que es 5.89 dolares."
      ],
      "metadata": {
        "id": "OiqHAh7VCizt"
      }
    },
    {
      "cell_type": "code",
      "source": [
        "Equipo_1.varianza()"
      ],
      "metadata": {
        "colab": {
          "base_uri": "https://localhost:8080/"
        },
        "id": "djdnu9I4b1S0",
        "outputId": "cb1136cc-1e77-4f31-dae9-a18cfcede546"
      },
      "execution_count": null,
      "outputs": [
        {
          "output_type": "execute_result",
          "data": {
            "text/plain": [
              "13.63888436377501"
            ]
          },
          "metadata": {},
          "execution_count": 55
        }
      ]
    },
    {
      "cell_type": "markdown",
      "source": [
        "- La varianza registrada de 13.63 representa una una alta  variabilidad de los datos respecto al valor promedio; es decir, existe una gran variabilidad referente al salario para la población encuestada."
      ],
      "metadata": {
        "id": "o-7leh_GEUai"
      }
    },
    {
      "cell_type": "code",
      "source": [
        "Equipo_1.coeficiente()"
      ],
      "metadata": {
        "colab": {
          "base_uri": "https://localhost:8080/"
        },
        "id": "Ej_uo5UTe1K8",
        "outputId": "cbc6d04c-b73c-4fc2-8baf-1190737bbefd"
      },
      "execution_count": null,
      "outputs": [
        {
          "output_type": "execute_result",
          "data": {
            "text/plain": [
              "0.6263605343078268"
            ]
          },
          "metadata": {},
          "execution_count": 56
        }
      ]
    },
    {
      "cell_type": "markdown",
      "source": [
        "- Este  coeficinete de variación  x 100% nos indica que existe una variación de 62.63% de los datos respecto a su media; es decir, respecto a que el salario medio por hora es 5.89, los salarios de esta muestra varian un 62.63%,encontrando así una gran heterogeneidad en el nivel salarial para la población encuestada."
      ],
      "metadata": {
        "id": "0hLUcksgQvXG"
      }
    },
    {
      "cell_type": "code",
      "source": [
        "df=wd.data (\"wage1\")\n",
        "educ = df[\"educ\"]"
      ],
      "metadata": {
        "id": "2092IY_ifczt"
      },
      "execution_count": null,
      "outputs": []
    },
    {
      "cell_type": "code",
      "source": [
        "educ"
      ],
      "metadata": {
        "colab": {
          "base_uri": "https://localhost:8080/"
        },
        "id": "bWUAbe7lzFPL",
        "outputId": "2b5a5a0d-c53a-4f00-d197-deef6ae97691"
      },
      "execution_count": null,
      "outputs": [
        {
          "output_type": "execute_result",
          "data": {
            "text/plain": [
              "0      11\n",
              "1      12\n",
              "2      11\n",
              "3       8\n",
              "4      12\n",
              "       ..\n",
              "521    16\n",
              "522    10\n",
              "523    15\n",
              "524    16\n",
              "525    14\n",
              "Name: educ, Length: 526, dtype: int64"
            ]
          },
          "metadata": {},
          "execution_count": 42
        }
      ]
    },
    {
      "cell_type": "code",
      "source": [
        "class Proyecto22:\n",
        "  def __init__(self, educ):\n",
        "    self.educ = educ\n",
        "  def media (self):\n",
        "    return sum(self.educ)/len(self.educ)\n",
        "  def mediana (self):\n",
        "    data = sorted (self.educ)\n",
        "    ale = len (data) // 2\n",
        "    return (data [ale - 1] + data [ale]) / 2 #datos pares\n",
        "  def desviacion (self):\n",
        "    vector=[]\n",
        "    media=self.media()\n",
        "    for i in (self.educ):\n",
        "      vector.append((i-media)**2)\n",
        "    return ((sum(vector)/(len(self.educ)-1))**(1/2))\n",
        "  def varianza (self):\n",
        "    desviacion=self.desviacion()\n",
        "    return desviacion**(2)\n",
        "  def coeficiente (self):\n",
        "    media=self.media()\n",
        "    desviacion=self.desviacion()\n",
        "    return desviacion/media"
      ],
      "metadata": {
        "id": "7VG9-fB1zYJq"
      },
      "execution_count": null,
      "outputs": []
    },
    {
      "cell_type": "code",
      "source": [
        "Equipo_11 = Proyecto22 (educ)"
      ],
      "metadata": {
        "id": "uGCLg2G10erw"
      },
      "execution_count": null,
      "outputs": []
    },
    {
      "cell_type": "code",
      "source": [
        "Equipo_11.media()"
      ],
      "metadata": {
        "colab": {
          "base_uri": "https://localhost:8080/"
        },
        "id": "opIsMpR80ixS",
        "outputId": "ede07b7f-2576-44ac-b735-47e210cb19a6"
      },
      "execution_count": null,
      "outputs": [
        {
          "output_type": "execute_result",
          "data": {
            "text/plain": [
              "12.562737642585551"
            ]
          },
          "metadata": {},
          "execution_count": 60
        }
      ]
    },
    {
      "cell_type": "markdown",
      "source": [
        "- El promedio de años de escolaridad para esta muestra es de 12.56 años."
      ],
      "metadata": {
        "id": "oH87CtZlWAh8"
      }
    },
    {
      "cell_type": "code",
      "source": [
        "Equipo_11.mediana()"
      ],
      "metadata": {
        "colab": {
          "base_uri": "https://localhost:8080/"
        },
        "id": "lMJUT7Ct0nMa",
        "outputId": "af0a06c5-0c71-4cdd-c79f-8e43b90b7e83"
      },
      "execution_count": null,
      "outputs": [
        {
          "output_type": "execute_result",
          "data": {
            "text/plain": [
              "12.0"
            ]
          },
          "metadata": {},
          "execution_count": 61
        }
      ]
    },
    {
      "cell_type": "markdown",
      "source": [
        "- Ordenando los datos, se encuentra que los años de escolaridad que se encuentran en el punto medio de la totalidad de los datos  es de 12.0. "
      ],
      "metadata": {
        "id": "s6R7dNZzWK9T"
      }
    },
    {
      "cell_type": "code",
      "source": [
        "Equipo_11.desviacion()"
      ],
      "metadata": {
        "colab": {
          "base_uri": "https://localhost:8080/"
        },
        "id": "pimn2lRE0p0a",
        "outputId": "6c4352cc-2fd1-41a4-ba14-e8d3c7047ff0"
      },
      "execution_count": null,
      "outputs": [
        {
          "output_type": "execute_result",
          "data": {
            "text/plain": [
              "2.7690224019436975"
            ]
          },
          "metadata": {},
          "execution_count": 62
        }
      ]
    },
    {
      "cell_type": "markdown",
      "source": [
        "- Este valor refiere a que en la muestra existe en el nivel de escolarización  una variación media de 2.76 años respecto al valor promedio de 12.0 años de escolaridad."
      ],
      "metadata": {
        "id": "ux07DlvKXIbT"
      }
    },
    {
      "cell_type": "code",
      "source": [
        "Equipo_11.varianza()"
      ],
      "metadata": {
        "colab": {
          "base_uri": "https://localhost:8080/"
        },
        "id": "k204skL-0up6",
        "outputId": "6c07a613-adc7-4981-8949-c0ded7f7dc2c"
      },
      "execution_count": null,
      "outputs": [
        {
          "output_type": "execute_result",
          "data": {
            "text/plain": [
              "7.667485062466044"
            ]
          },
          "metadata": {},
          "execution_count": 63
        }
      ]
    },
    {
      "cell_type": "markdown",
      "source": [
        "- Este valor indica que existe una alta variabilidad en los años escolares registrados en esta población estudiada."
      ],
      "metadata": {
        "id": "MvMYPaxGYZrT"
      }
    },
    {
      "cell_type": "code",
      "source": [
        "Equipo_11.coeficiente()"
      ],
      "metadata": {
        "colab": {
          "base_uri": "https://localhost:8080/"
        },
        "id": "NHpdxknn0yFS",
        "outputId": "fd6f4f37-4f5d-4d75-e19d-6f212a79e07d"
      },
      "execution_count": null,
      "outputs": [
        {
          "output_type": "execute_result",
          "data": {
            "text/plain": [
              "0.22041552412566356"
            ]
          },
          "metadata": {},
          "execution_count": 64
        }
      ]
    },
    {
      "cell_type": "markdown",
      "source": [
        "- Este valor multiplicado x 100% indica que existe una variación de 22.04% de los datos respceto a su media; es decir, si el promedio de años de escolaridad es de 12.0 años , en la variable los años varian en  22.04 %, resaltando así una variación significativa en esta población estudiada."
      ],
      "metadata": {
        "id": "zYtC_4-QY1ZL"
      }
    },
    {
      "cell_type": "code",
      "source": [
        ""
      ],
      "metadata": {
        "id": "W0m002E-00dB"
      },
      "execution_count": null,
      "outputs": []
    }
  ]
}