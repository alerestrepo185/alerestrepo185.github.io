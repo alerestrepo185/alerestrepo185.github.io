{
  "nbformat": 4,
  "nbformat_minor": 0,
  "metadata": {
    "colab": {
      "name": "PROYECTO #4 (MACHINE LEARNING) - RESTREPO, SANTAMARIA, YEPES",
      "provenance": [],
      "include_colab_link": true
    },
    "kernelspec": {
      "name": "python3",
      "display_name": "Python 3"
    },
    "language_info": {
      "name": "python"
    }
  },
  "cells": [
    {
      "cell_type": "markdown",
      "metadata": {
        "id": "view-in-github",
        "colab_type": "text"
      },
      "source": [
        "<a href=\"https://colab.research.google.com/github/alerestrepo185/alerestrepo185.github.io/blob/main/PROYECTO_4_(MACHINE_LEARNING)_RESTREPO%2C_SANTAMARIA%2C_YEPES.ipynb\" target=\"_parent\"><img src=\"https://colab.research.google.com/assets/colab-badge.svg\" alt=\"Open In Colab\"/></a>"
      ]
    },
    {
      "cell_type": "markdown",
      "source": [
        "# **PROYECTO #4**"
      ],
      "metadata": {
        "id": "KKX4gQg8wQiq"
      }
    },
    {
      "cell_type": "markdown",
      "source": [
        "Paula Alejandra Restrepo Velásquez\n",
        "\n",
        "Andrés Felipe Santamaria Robayo\n",
        "\n",
        "Junior Yepes Vasquez"
      ],
      "metadata": {
        "id": "gXEv9kNbwVSk"
      }
    },
    {
      "cell_type": "code",
      "source": [
        "!pip install wooldridge\n",
        "import wooldridge as wd\n",
        "import numpy as np\n",
        "import pandas as pd"
      ],
      "metadata": {
        "colab": {
          "base_uri": "https://localhost:8080/"
        },
        "id": "1Ar2MktqwWsX",
        "outputId": "4defb261-26c4-40d6-f208-06727ea33072"
      },
      "execution_count": null,
      "outputs": [
        {
          "output_type": "stream",
          "name": "stdout",
          "text": [
            "Collecting wooldridge\n",
            "  Downloading wooldridge-0.4.4-py3-none-any.whl (5.1 MB)\n",
            "\u001b[K     |████████████████████████████████| 5.1 MB 5.3 MB/s \n",
            "\u001b[?25hRequirement already satisfied: pandas in /usr/local/lib/python3.7/dist-packages (from wooldridge) (1.3.5)\n",
            "Requirement already satisfied: numpy>=1.17.3 in /usr/local/lib/python3.7/dist-packages (from pandas->wooldridge) (1.21.5)\n",
            "Requirement already satisfied: pytz>=2017.3 in /usr/local/lib/python3.7/dist-packages (from pandas->wooldridge) (2018.9)\n",
            "Requirement already satisfied: python-dateutil>=2.7.3 in /usr/local/lib/python3.7/dist-packages (from pandas->wooldridge) (2.8.2)\n",
            "Requirement already satisfied: six>=1.5 in /usr/local/lib/python3.7/dist-packages (from python-dateutil>=2.7.3->pandas->wooldridge) (1.15.0)\n",
            "Installing collected packages: wooldridge\n",
            "Successfully installed wooldridge-0.4.4\n"
          ]
        }
      ]
    },
    {
      "cell_type": "code",
      "source": [
        "df=wd.data (\"crime1\")\n",
        "b_1pcnv = df['pcnv']\n",
        "b_2avgsen = df['avgsen']\n",
        "b_3tottime = df['tottime']\n",
        "b_4inc86 = df['inc86']\n",
        "Y_nar86 = df['narr86']\n",
        "b_5pcnvsq = df['pcnvsq']\n",
        "b_6inc86sq = df['inc86sq']"
      ],
      "metadata": {
        "id": "_81Q9FIFwd8X"
      },
      "execution_count": null,
      "outputs": []
    },
    {
      "cell_type": "code",
      "source": [
        "b_1pcnv"
      ],
      "metadata": {
        "colab": {
          "base_uri": "https://localhost:8080/"
        },
        "id": "RkUkPU7m0OZy",
        "outputId": "fe9defd5-2836-43cd-a465-ae6211ffd039"
      },
      "execution_count": null,
      "outputs": [
        {
          "output_type": "execute_result",
          "data": {
            "text/plain": [
              "0       0.38\n",
              "1       0.44\n",
              "2       0.33\n",
              "3       0.25\n",
              "4       0.00\n",
              "        ... \n",
              "2720    0.00\n",
              "2721    0.00\n",
              "2722    0.00\n",
              "2723    0.00\n",
              "2724    0.00\n",
              "Name: pcnv, Length: 2725, dtype: float64"
            ]
          },
          "metadata": {},
          "execution_count": 3
        }
      ]
    },
    {
      "cell_type": "code",
      "source": [
        "b_2avgsen"
      ],
      "metadata": {
        "colab": {
          "base_uri": "https://localhost:8080/"
        },
        "id": "3gMVwsZK2TcC",
        "outputId": "63b064c4-7ed1-4f9c-a2ae-3d6ee3b5db64"
      },
      "execution_count": null,
      "outputs": [
        {
          "output_type": "execute_result",
          "data": {
            "text/plain": [
              "0       17.600000\n",
              "1        0.000000\n",
              "2       22.799999\n",
              "3        0.000000\n",
              "4        0.000000\n",
              "          ...    \n",
              "2720     0.000000\n",
              "2721     0.000000\n",
              "2722     0.000000\n",
              "2723     0.000000\n",
              "2724     0.000000\n",
              "Name: avgsen, Length: 2725, dtype: float64"
            ]
          },
          "metadata": {},
          "execution_count": 4
        }
      ]
    },
    {
      "cell_type": "code",
      "source": [
        "b_3tottime"
      ],
      "metadata": {
        "colab": {
          "base_uri": "https://localhost:8080/"
        },
        "id": "-HSjyynQ2-Ut",
        "outputId": "a8ba0520-0f81-4fe1-bc8f-041693d78458"
      },
      "execution_count": null,
      "outputs": [
        {
          "output_type": "execute_result",
          "data": {
            "text/plain": [
              "0       35.200001\n",
              "1        0.000000\n",
              "2       22.799999\n",
              "3        0.000000\n",
              "4        0.000000\n",
              "          ...    \n",
              "2720     0.000000\n",
              "2721     0.000000\n",
              "2722     0.000000\n",
              "2723     0.000000\n",
              "2724     0.000000\n",
              "Name: tottime, Length: 2725, dtype: float64"
            ]
          },
          "metadata": {},
          "execution_count": 5
        }
      ]
    },
    {
      "cell_type": "code",
      "source": [
        "b_4inc86"
      ],
      "metadata": {
        "colab": {
          "base_uri": "https://localhost:8080/"
        },
        "id": "7dveTAcL3B83",
        "outputId": "b7f74227-0a6f-433b-a5d6-9dc110050644"
      },
      "execution_count": null,
      "outputs": [
        {
          "output_type": "execute_result",
          "data": {
            "text/plain": [
              "0         0.000000\n",
              "1         0.800000\n",
              "2         0.000000\n",
              "3         8.800000\n",
              "4         8.100000\n",
              "           ...    \n",
              "2720      0.000000\n",
              "2721     11.500000\n",
              "2722      1.900000\n",
              "2723      0.000000\n",
              "2724    191.300003\n",
              "Name: inc86, Length: 2725, dtype: float64"
            ]
          },
          "metadata": {},
          "execution_count": 6
        }
      ]
    },
    {
      "cell_type": "code",
      "source": [
        "b_5pcnvsq"
      ],
      "metadata": {
        "colab": {
          "base_uri": "https://localhost:8080/"
        },
        "id": "m-sFgNbOEF2x",
        "outputId": "10e13ce2-99c4-4175-a8bd-0b0d8dd66045"
      },
      "execution_count": null,
      "outputs": [
        {
          "output_type": "execute_result",
          "data": {
            "text/plain": [
              "0       0.1444\n",
              "1       0.1936\n",
              "2       0.1089\n",
              "3       0.0625\n",
              "4       0.0000\n",
              "         ...  \n",
              "2720    0.0000\n",
              "2721    0.0000\n",
              "2722    0.0000\n",
              "2723    0.0000\n",
              "2724    0.0000\n",
              "Name: pcnvsq, Length: 2725, dtype: float64"
            ]
          },
          "metadata": {},
          "execution_count": 7
        }
      ]
    },
    {
      "cell_type": "code",
      "source": [
        "b_6inc86sq"
      ],
      "metadata": {
        "colab": {
          "base_uri": "https://localhost:8080/"
        },
        "id": "8UuxnIKvELGH",
        "outputId": "e3876ce7-c86a-404d-dc87-8ae6e5e2a6b9"
      },
      "execution_count": null,
      "outputs": [
        {
          "output_type": "execute_result",
          "data": {
            "text/plain": [
              "0           0.000000\n",
              "1           0.640000\n",
              "2           0.000000\n",
              "3          77.440002\n",
              "4          65.610008\n",
              "            ...     \n",
              "2720        0.000000\n",
              "2721      132.250000\n",
              "2722        3.610000\n",
              "2723        0.000000\n",
              "2724    36595.691406\n",
              "Name: inc86sq, Length: 2725, dtype: float64"
            ]
          },
          "metadata": {},
          "execution_count": 8
        }
      ]
    },
    {
      "cell_type": "code",
      "source": [
        "Y_nar86"
      ],
      "metadata": {
        "colab": {
          "base_uri": "https://localhost:8080/"
        },
        "id": "sRCSvQ4b3IUh",
        "outputId": "5b9d9213-df1b-4eed-b3ec-ecf522b2b7d3"
      },
      "execution_count": null,
      "outputs": [
        {
          "output_type": "execute_result",
          "data": {
            "text/plain": [
              "0       0\n",
              "1       2\n",
              "2       1\n",
              "3       2\n",
              "4       1\n",
              "       ..\n",
              "2720    1\n",
              "2721    0\n",
              "2722    0\n",
              "2723    1\n",
              "2724    0\n",
              "Name: narr86, Length: 2725, dtype: int64"
            ]
          },
          "metadata": {},
          "execution_count": 9
        }
      ]
    },
    {
      "cell_type": "code",
      "source": [
        "X_ = df [['pcnv' ,'avgsen', 'tottime', 'inc86']].to_numpy()"
      ],
      "metadata": {
        "id": "7Fyj41EPgXY9"
      },
      "execution_count": null,
      "outputs": []
    },
    {
      "cell_type": "code",
      "source": [
        "X_"
      ],
      "metadata": {
        "colab": {
          "base_uri": "https://localhost:8080/"
        },
        "id": "_YTu9CDNTjSV",
        "outputId": "80b0bea7-a05b-4539-8323-ef1d51ddd7b3"
      },
      "execution_count": null,
      "outputs": [
        {
          "output_type": "execute_result",
          "data": {
            "text/plain": [
              "array([[  0.38      ,  17.60000038,  35.20000076,   0.        ],\n",
              "       [  0.44      ,   0.        ,   0.        ,   0.80000001],\n",
              "       [  0.33000001,  22.79999924,  22.79999924,   0.        ],\n",
              "       ...,\n",
              "       [  0.        ,   0.        ,   0.        ,   1.89999998],\n",
              "       [  0.        ,   0.        ,   0.        ,   0.        ],\n",
              "       [  0.        ,   0.        ,   0.        , 191.30000305]])"
            ]
          },
          "metadata": {},
          "execution_count": 11
        }
      ]
    },
    {
      "cell_type": "code",
      "source": [
        "dimensiones=(2725,1)\n",
        "matriz_unos = np.ones(dimensiones)"
      ],
      "metadata": {
        "id": "q_ELeX4Fj21b"
      },
      "execution_count": null,
      "outputs": []
    },
    {
      "cell_type": "code",
      "source": [
        "matriz_unos"
      ],
      "metadata": {
        "colab": {
          "base_uri": "https://localhost:8080/"
        },
        "id": "VKTxSi8SpuVK",
        "outputId": "885d3585-6dcf-4dcd-ebe5-5e25ba7c74b1"
      },
      "execution_count": null,
      "outputs": [
        {
          "output_type": "execute_result",
          "data": {
            "text/plain": [
              "array([[1.],\n",
              "       [1.],\n",
              "       [1.],\n",
              "       ...,\n",
              "       [1.],\n",
              "       [1.],\n",
              "       [1.]])"
            ]
          },
          "metadata": {},
          "execution_count": 13
        }
      ]
    },
    {
      "cell_type": "code",
      "source": [
        "X= np.concatenate((matriz_unos, X_), 1)"
      ],
      "metadata": {
        "id": "Aq_RUNHWmH8f"
      },
      "execution_count": null,
      "outputs": []
    },
    {
      "cell_type": "code",
      "source": [
        "X"
      ],
      "metadata": {
        "colab": {
          "base_uri": "https://localhost:8080/"
        },
        "id": "E2s1DHJAp6lo",
        "outputId": "a12d93a8-45e6-47fa-cf6c-63c99520727a"
      },
      "execution_count": null,
      "outputs": [
        {
          "output_type": "execute_result",
          "data": {
            "text/plain": [
              "array([[  1.        ,   0.38      ,  17.60000038,  35.20000076,\n",
              "          0.        ],\n",
              "       [  1.        ,   0.44      ,   0.        ,   0.        ,\n",
              "          0.80000001],\n",
              "       [  1.        ,   0.33000001,  22.79999924,  22.79999924,\n",
              "          0.        ],\n",
              "       ...,\n",
              "       [  1.        ,   0.        ,   0.        ,   0.        ,\n",
              "          1.89999998],\n",
              "       [  1.        ,   0.        ,   0.        ,   0.        ,\n",
              "          0.        ],\n",
              "       [  1.        ,   0.        ,   0.        ,   0.        ,\n",
              "        191.30000305]])"
            ]
          },
          "metadata": {},
          "execution_count": 15
        }
      ]
    },
    {
      "cell_type": "code",
      "source": [
        "Y = df['narr86'].to_numpy()"
      ],
      "metadata": {
        "id": "1DMkp-QbqE8Q"
      },
      "execution_count": null,
      "outputs": []
    },
    {
      "cell_type": "code",
      "source": [
        "Y"
      ],
      "metadata": {
        "colab": {
          "base_uri": "https://localhost:8080/"
        },
        "id": "O4etRqrtqTbh",
        "outputId": "b73e861f-74a1-468d-aaeb-3ba5d3191211"
      },
      "execution_count": null,
      "outputs": [
        {
          "output_type": "execute_result",
          "data": {
            "text/plain": [
              "array([0, 2, 1, ..., 0, 1, 0])"
            ]
          },
          "metadata": {},
          "execution_count": 17
        }
      ]
    },
    {
      "cell_type": "code",
      "source": [
        "\n",
        "Y.shape"
      ],
      "metadata": {
        "colab": {
          "base_uri": "https://localhost:8080/"
        },
        "id": "pxqFyS8QshhX",
        "outputId": "f87a57f0-0237-463a-d790-56bce4f649e1"
      },
      "execution_count": null,
      "outputs": [
        {
          "output_type": "execute_result",
          "data": {
            "text/plain": [
              "(2725,)"
            ]
          },
          "metadata": {},
          "execution_count": 18
        }
      ]
    },
    {
      "cell_type": "code",
      "source": [
        "from numpy.core.fromnumeric import squeeze\n",
        "class regresion:\n",
        "  def __init__(self,X,Y):\n",
        "    self.X = X\n",
        "    self.Y = Y\n",
        "    self.n, self.K = X.shape\n",
        "  def b (self):\n",
        "    return (np.linalg.inv(self.X.T @ self.X) @ self.X.T @ self.Y).reshape(-1,1) \n",
        "  def ee (self):\n",
        "    beta = self.b().reshape(-1,1)\n",
        "    self.SRC = np.transpose(self.Y.reshape(-1,1) - self.X @ beta) @ (self.Y.reshape(-1,1) - self.X @ beta)\n",
        "    self.denominador = self.n - self.K \n",
        "    self.sigma_2 = self.SRC / self.denominador\n",
        "    Mat_var_cov = self.sigma_2 * (np.linalg.inv(X.T @ X))\n",
        "    return ((np.diag(Mat_var_cov))**(1/2)).reshape(-1,1)\n",
        "  def t_stat (self):\n",
        "    errores_est = self.ee().reshape(-1,1)\n",
        "    return (self.b().reshape(-1,1)/errores_est)\n",
        "  def conf_int (self):\n",
        "    self.superior=(self.b()+1.96*self.ee()).squeeze\n",
        "    self.inferior=(self.b()- 1.96*self.ee()).squeeze\n",
        "    #self.superior=[round(i, 2) for i in self.superior]\n",
        "    #self.inferior=[round(i, 2) for i in self.inferior]\n",
        "    self.inter=list(zip(self.inferior, self.superior))\n",
        "    print (self.inter)\n",
        "  def resumen1 (self):\n",
        "    print('-->betas estimados; cons,pcnv,avgsen,tottime,inc86')\n",
        "    print(Equipo_1.b())\n",
        "    print('Esta base de datos representa información sobre crimenes en en USA para el año 1986')\n",
        "    print('-->errores estandar estimados; cons,pcnv,avgsen,tottime,inc86')\n",
        "    print(Equipo_1.ee())\n",
        "    print('las variables representan: pcvn:proporción de condenas anteriores,avgsen:duración de la condena,tottime:tiempo en prisión desde 18 meses,inc86:ingreso superior a $100')\n",
        "    print('-->t-student; cons,pcnv,avgsen,tottime,inc86')\n",
        "    print(Equipo_1.t_stat())\n",
        "    print('--> Por lo que esta regresión  relacionar el numero de arrestos como variable dependiente frente a las demas variables predictoras')\n",
        "  "
      ],
      "metadata": {
        "id": "CYmW-wWPE-k6"
      },
      "execution_count": null,
      "outputs": []
    },
    {
      "cell_type": "code",
      "source": [
        "Equipo_1 = regresion(X,Y)"
      ],
      "metadata": {
        "id": "GaL8ZSuNPRLB"
      },
      "execution_count": null,
      "outputs": []
    },
    {
      "cell_type": "markdown",
      "source": [
        ""
      ],
      "metadata": {
        "id": "r4M1DDcqR6an"
      }
    },
    {
      "cell_type": "code",
      "source": [
        "\n",
        "Equipo_1.b()"
      ],
      "metadata": {
        "colab": {
          "base_uri": "https://localhost:8080/"
        },
        "id": "KhvivkA1vGVa",
        "outputId": "bc1cd623-5ec4-4390-edf9-32dcc54da11b"
      },
      "execution_count": null,
      "outputs": [
        {
          "output_type": "execute_result",
          "data": {
            "text/plain": [
              "array([[ 0.59387489],\n",
              "       [-0.16243696],\n",
              "       [-0.00618803],\n",
              "       [ 0.00771062],\n",
              "       [-0.00243615]])"
            ]
          },
          "metadata": {},
          "execution_count": 104
        }
      ]
    },
    {
      "cell_type": "code",
      "source": [
        "\n",
        "Equipo_1.ee()"
      ],
      "metadata": {
        "colab": {
          "base_uri": "https://localhost:8080/"
        },
        "id": "z4tmU6IWR8Fd",
        "outputId": "b82b9da7-e111-4fe9-88d1-e4409faeb66f"
      },
      "execution_count": null,
      "outputs": [
        {
          "output_type": "execute_result",
          "data": {
            "text/plain": [
              "array([[0.02585771],\n",
              "       [0.04081609],\n",
              "       [0.01238073],\n",
              "       [0.009432  ],\n",
              "       [0.00024321]])"
            ]
          },
          "metadata": {},
          "execution_count": 106
        }
      ]
    },
    {
      "cell_type": "code",
      "source": [
        "Equipo_1.t_stat()"
      ],
      "metadata": {
        "colab": {
          "base_uri": "https://localhost:8080/"
        },
        "id": "0RK1XEf1OJsl",
        "outputId": "1cb01a8b-2a20-4551-dd0b-f224054fd00a"
      },
      "execution_count": null,
      "outputs": [
        {
          "output_type": "execute_result",
          "data": {
            "text/plain": [
              "array([[ 22.9670375 ],\n",
              "       [ -3.97972866],\n",
              "       [ -0.49981111],\n",
              "       [  0.81749603],\n",
              "       [-10.01685265]])"
            ]
          },
          "metadata": {},
          "execution_count": 107
        }
      ]
    },
    {
      "cell_type": "code",
      "source": [
        "Equipo_1.resumen1()"
      ],
      "metadata": {
        "colab": {
          "base_uri": "https://localhost:8080/"
        },
        "id": "J7McDXUyJkoL",
        "outputId": "add70a47-6ebf-4454-9541-6be53fc06cd2"
      },
      "execution_count": null,
      "outputs": [
        {
          "output_type": "stream",
          "name": "stdout",
          "text": [
            "-->betas estimados; cons,pcnv,avgsen,tottime,inc86\n",
            "[[ 0.59387489]\n",
            " [-0.16243696]\n",
            " [-0.00618803]\n",
            " [ 0.00771062]\n",
            " [-0.00243615]]\n",
            "Esta base de datos representa información sobre crimenes en en USA para el año 1986\n",
            "-->errores estandar estimados; cons,pcnv,avgsen,tottime,inc86\n",
            "[[0.02585771]\n",
            " [0.04081609]\n",
            " [0.01238073]\n",
            " [0.009432  ]\n",
            " [0.00024321]]\n",
            "las variables representan: pcvn:proporción de condenas anteriores,avgsen:duración de la condena,tottime:tiempo en prisión desde 18 meses,inc86:ingreso superior a $100\n",
            "-->t-student; cons,pcnv,avgsen,tottime,inc86\n",
            "[[ 22.9670375 ]\n",
            " [ -3.97972866]\n",
            " [ -0.49981111]\n",
            " [  0.81749603]\n",
            " [-10.01685265]]\n",
            "--> Por lo que esta regresión  relacionar el numero de arrestos como variable dependiente frente a las demas variables predictoras\n"
          ]
        }
      ]
    },
    {
      "cell_type": "markdown",
      "source": [
        "- intercepto: 0.5938749 (0.0258577),  t-stat:22.97 representa como manteniendo constante las demas variables, el número de arrestos es de 0.5938 \n",
        "\n",
        "- pcnv:-162437 (0.0408161), t-stat=-3.98, esta valor arroja la relación inversa en entre la proporción de condenas anteriores y las veces de arresto; por cada año de arresto anteriormente t-1, las veces arrestado se reduce en 0.162. esta variable es altamente significativa, con el error estandar y el t-student se encuentra en la región de aceptación.  \n",
        "\n",
        "- avgsen: -.006188 (0.123807) t-stat:-0.50, esta variable que si bien no es significativa en el modelo, aceverá la relación de que entre mayor años duración de las condenas, se reduce las veces de arresto en .006.\n",
        "\n",
        "- tottime: .0077106 (0.009432) t-stat:0.82, esta variable representa como a medida que la cadena aumenta, los números de arrestros disminuyen en 0.007; sin embargo esta según la inferencia estadistica, no es significativa en el modelo; el tiempo en prisión no explica los numeros de arrestos para esta población estudiada.\n",
        "\n",
        "- inc86:-0.0024362 (0.0002432) t-stat:-10.2, esta variable predicha indica una relación inversa entre el ingreso y los números de veces de arrestos, ante el incremento de $100 en el ingreso, disminuyen las veces de arresto en 0.002432, esto siendo altamente significativos a la hora de la justificación del modelo.\n",
        "\n",
        "- Finalmente se encuentra como las variables de la proporción de condenas anteriores y el ingreso superior a $100, explican con gran significancia estadistica el número de veces de arrestos , sin embargo las demas variables especificadas al no ser significativas, podrían estar causando ruido en el modelo, inflando las varianzas y perjudicando la inferencia estadistica. Se podría efectuar una prueba F para determinar el uso de estas variables afecta la predición de la variable independiente.      \n",
        "\n",
        "\n"
      ],
      "metadata": {
        "id": "ntZdE9c-14hQ"
      }
    },
    {
      "cell_type": "code",
      "source": [
        "b5_b6 = df [['pcnvsq' ,'inc86sq']].to_numpy()"
      ],
      "metadata": {
        "id": "br3QzRjrBUOR"
      },
      "execution_count": null,
      "outputs": []
    },
    {
      "cell_type": "code",
      "source": [
        "b5_b6"
      ],
      "metadata": {
        "id": "SW-kURrcCw8I",
        "colab": {
          "base_uri": "https://localhost:8080/"
        },
        "outputId": "c5d0ac20-e167-4a0f-d63d-fe4729f990b1"
      },
      "execution_count": null,
      "outputs": [
        {
          "output_type": "execute_result",
          "data": {
            "text/plain": [
              "array([[1.44400001e-01, 0.00000000e+00],\n",
              "       [1.93599999e-01, 6.40000045e-01],\n",
              "       [1.08900011e-01, 0.00000000e+00],\n",
              "       ...,\n",
              "       [0.00000000e+00, 3.60999990e+00],\n",
              "       [0.00000000e+00, 0.00000000e+00],\n",
              "       [0.00000000e+00, 3.65956914e+04]])"
            ]
          },
          "metadata": {},
          "execution_count": 49
        }
      ]
    },
    {
      "cell_type": "code",
      "source": [
        ""
      ],
      "metadata": {
        "id": "3gnpZ1PAFRwc"
      },
      "execution_count": null,
      "outputs": []
    },
    {
      "cell_type": "code",
      "source": [
        "X_2 = np.concatenate((X,b5_b6), 1)"
      ],
      "metadata": {
        "id": "lHs0Uet4EjCd"
      },
      "execution_count": null,
      "outputs": []
    },
    {
      "cell_type": "code",
      "source": [
        "X_2"
      ],
      "metadata": {
        "id": "WxQYaPgVFO6l",
        "colab": {
          "base_uri": "https://localhost:8080/"
        },
        "outputId": "85718c07-7263-42fc-cfe4-f865004ade9d"
      },
      "execution_count": null,
      "outputs": [
        {
          "output_type": "execute_result",
          "data": {
            "text/plain": [
              "array([[1.00000000e+00, 3.79999995e-01, 1.76000004e+01, ...,\n",
              "        0.00000000e+00, 1.44400001e-01, 0.00000000e+00],\n",
              "       [1.00000000e+00, 4.39999998e-01, 0.00000000e+00, ...,\n",
              "        8.00000012e-01, 1.93599999e-01, 6.40000045e-01],\n",
              "       [1.00000000e+00, 3.30000013e-01, 2.27999992e+01, ...,\n",
              "        0.00000000e+00, 1.08900011e-01, 0.00000000e+00],\n",
              "       ...,\n",
              "       [1.00000000e+00, 0.00000000e+00, 0.00000000e+00, ...,\n",
              "        1.89999998e+00, 0.00000000e+00, 3.60999990e+00],\n",
              "       [1.00000000e+00, 0.00000000e+00, 0.00000000e+00, ...,\n",
              "        0.00000000e+00, 0.00000000e+00, 0.00000000e+00],\n",
              "       [1.00000000e+00, 0.00000000e+00, 0.00000000e+00, ...,\n",
              "        1.91300003e+02, 0.00000000e+00, 3.65956914e+04]])"
            ]
          },
          "metadata": {},
          "execution_count": 59
        }
      ]
    },
    {
      "cell_type": "code",
      "source": [
        "class regresion2:\n",
        "  def __init__(self,X,Y):\n",
        "    self.X = X_2\n",
        "    self.Y = Y\n",
        "    self.n, self.K = X.shape\n",
        "  def b (self):\n",
        "    return (np.linalg.inv(self.X.T @ self.X) @ self.X.T @ self.Y).reshape(-1,1) \n",
        "  def ee (self):\n",
        "    beta = self.b().reshape(-1,1)\n",
        "    self.SRC = np.transpose(self.Y.reshape(-1,1) - self.X @ beta) @ (self.Y.reshape(-1,1) - self.X @ beta)\n",
        "    self.denominador = self.n - self.K \n",
        "    self.sigma_2 = self.SRC / self.denominador\n",
        "    Mat_var_cov = self.sigma_2 * (np.linalg.inv(X.T @ X))\n",
        "    return ((np.diag(Mat_var_cov))**(1/2)).reshape(-1,1)\n",
        "  def t_stat(self):\n",
        "    errores_est = self.ee().reshape(-1,1)\n",
        "    return (self.b().reshape(-1,1)/errores_est)\n",
        "  def conf_int (self):\n",
        "    self.superior=(self.b()+1.96*self.ee()).squeeze\n",
        "    self.inferior=(self.b()- 1.96*self.ee()).squeeze\n",
        "    #self.superior=[round(i, 2) for i in self.superior]\n",
        "    #self.inferior=[round(i, 2) for i in self.inferior]\n",
        "    self.inter=list(zip(self.inferior, self.superior))\n",
        "    print (self.inter)\n",
        "  def resumen2 (self):\n",
        "    return "
      ],
      "metadata": {
        "id": "kN9sVE-dMnFd"
      },
      "execution_count": null,
      "outputs": []
    },
    {
      "cell_type": "code",
      "source": [
        "Equipo_1_1 = regresion2(X,Y)"
      ],
      "metadata": {
        "id": "Xu9dXwbzBdNr"
      },
      "execution_count": null,
      "outputs": []
    },
    {
      "cell_type": "code",
      "source": [
        "Equipo_1_1.b()"
      ],
      "metadata": {
        "colab": {
          "base_uri": "https://localhost:8080/"
        },
        "id": "1uPKn8JDBlJE",
        "outputId": "8087cad3-3bbd-4e6f-8277-c42a9c73a7dd"
      },
      "execution_count": null,
      "outputs": [
        {
          "output_type": "execute_result",
          "data": {
            "text/plain": [
              "array([[ 5.77523688e-01],\n",
              "       [ 6.22634460e-01],\n",
              "       [-6.92546885e-03],\n",
              "       [ 4.48874198e-03],\n",
              "       [-4.08083748e-03],\n",
              "       [-8.26588291e-01],\n",
              "       [ 8.56614968e-06]])"
            ]
          },
          "metadata": {},
          "execution_count": 90
        }
      ]
    },
    {
      "cell_type": "code",
      "source": [
        "Equipo_1_1.SRC"
      ],
      "metadata": {
        "colab": {
          "base_uri": "https://localhost:8080/"
        },
        "id": "8WER-CmxBqB-",
        "outputId": "a2d4875b-e603-482e-9775-458e1f9dea22"
      },
      "execution_count": null,
      "outputs": [
        {
          "output_type": "execute_result",
          "data": {
            "text/plain": [
              "array([[1892.89141675]])"
            ]
          },
          "metadata": {},
          "execution_count": 109
        }
      ]
    },
    {
      "cell_type": "code",
      "source": [
        "Equipo_1_1.t_stat()"
      ],
      "metadata": {
        "colab": {
          "base_uri": "https://localhost:8080/",
          "height": 165
        },
        "id": "y63zD8UJCcKM",
        "outputId": "b71d8dd9-11cc-4b85-b555-6150010ad8fe"
      },
      "execution_count": null,
      "outputs": [
        {
          "output_type": "error",
          "ename": "AttributeError",
          "evalue": "ignored",
          "traceback": [
            "\u001b[0;31m---------------------------------------------------------------------------\u001b[0m",
            "\u001b[0;31mAttributeError\u001b[0m                            Traceback (most recent call last)",
            "\u001b[0;32m<ipython-input-95-4a8ebaf115e2>\u001b[0m in \u001b[0;36m<module>\u001b[0;34m()\u001b[0m\n\u001b[0;32m----> 1\u001b[0;31m \u001b[0mEquipo_1_1\u001b[0m\u001b[0;34m.\u001b[0m\u001b[0mt_stat\u001b[0m\u001b[0;34m(\u001b[0m\u001b[0;34m)\u001b[0m\u001b[0;34m\u001b[0m\u001b[0;34m\u001b[0m\u001b[0m\n\u001b[0m",
            "\u001b[0;31mAttributeError\u001b[0m: 'regresion2' object has no attribute 't_stat'"
          ]
        }
      ]
    },
    {
      "cell_type": "code",
      "source": [
        ""
      ],
      "metadata": {
        "id": "D2MINK9eGKgA"
      },
      "execution_count": null,
      "outputs": []
    },
    {
      "cell_type": "markdown",
      "source": [
        "\n",
        "![image.png](data:image/png;base64,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)"
      ],
      "metadata": {
        "id": "OTCR5l-b7Twk"
      }
    }
  ]
}